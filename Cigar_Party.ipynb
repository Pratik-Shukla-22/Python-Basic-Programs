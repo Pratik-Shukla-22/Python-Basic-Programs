{
  "nbformat": 4,
  "nbformat_minor": 0,
  "metadata": {
    "colab": {
      "name": "Cigar_Party.ipynb",
      "provenance": []
    },
    "kernelspec": {
      "name": "python3",
      "display_name": "Python 3"
    },
    "language_info": {
      "name": "python"
    }
  },
  "cells": [
    {
      "cell_type": "code",
      "metadata": {
        "colab": {
          "base_uri": "https://localhost:8080/"
        },
        "id": "Rl7RE81L2Z2t",
        "outputId": "35e43986-1b46-49f6-d2cc-7da7914b67ed"
      },
      "source": [
        "#Python code for squirrels cigar party problem\n",
        "\n",
        "def cigar_party(cigars, is_weekend):\n",
        "  #If it's a weekend\n",
        "  if(is_weekend):\n",
        "    #If number of cigars >=40\n",
        "    if(cigars>=40):\n",
        "      return True\n",
        "\n",
        "  #If it's not a weekend\n",
        "  else:\n",
        "    #If number of cigars are between 40 and 60 inclusive\n",
        "    if(cigars>=40 and cigars<=60):\n",
        "      return True\n",
        "  \n",
        "  #If all the above cases are False\n",
        "  return False\n",
        "\n",
        "#Function call\n",
        "cigars = 20\n",
        "is_weekend = False\n",
        "answer = cigar_party(cigars, is_weekend)\n",
        "print(f\"With the given conditions the final answer is {answer}.\")"
      ],
      "execution_count": 25,
      "outputs": [
        {
          "output_type": "stream",
          "name": "stdout",
          "text": [
            "With the given conditions the final answer is False.\n"
          ]
        }
      ]
    },
    {
      "cell_type": "code",
      "metadata": {
        "id": "qaY26tV04Sa-"
      },
      "source": [
        ""
      ],
      "execution_count": 21,
      "outputs": []
    },
    {
      "cell_type": "code",
      "metadata": {
        "id": "_56gbI347zlz"
      },
      "source": [
        ""
      ],
      "execution_count": null,
      "outputs": []
    }
  ]
}