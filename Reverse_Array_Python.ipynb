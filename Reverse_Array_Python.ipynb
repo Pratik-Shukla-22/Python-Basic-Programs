{
  "nbformat": 4,
  "nbformat_minor": 0,
  "metadata": {
    "colab": {
      "name": "Reverse_Array_Python.ipynb",
      "provenance": []
    },
    "kernelspec": {
      "name": "python3",
      "display_name": "Python 3"
    },
    "language_info": {
      "name": "python"
    }
  },
  "cells": [
    {
      "cell_type": "code",
      "metadata": {
        "colab": {
          "base_uri": "https://localhost:8080/"
        },
        "id": "c2eg_GmVbdVc",
        "outputId": "63b532a2-4a27-48c6-8609-6f3388c62150"
      },
      "source": [
        "#Python program to reverse an array:\n",
        "\n",
        "def reverse_array(arr):\n",
        "\n",
        "  #Print the original array:\n",
        "  print(f\"The original array is {arr}\\n\\n\")\n",
        "\n",
        "  #Get the length of the array\n",
        "  n = len(arr)\n",
        "\n",
        "  #Define the start and end points\n",
        "  start = 0\n",
        "  end = n-1\n",
        "\n",
        "  #Initialize a variable for iterations\n",
        "  i = 1\n",
        "\n",
        "  #Run the following code until start<end\n",
        "  while(start<end):\n",
        "\n",
        "    #The following code swaps start and end values\n",
        "    temp = arr[start]\n",
        "    arr[start] = arr[end]\n",
        "    arr[end] = temp\n",
        "\n",
        "    #Increase the value of start by 1\n",
        "    start = start+1\n",
        "    #Decrease the value of end by 1\n",
        "    end = end-1\n",
        "  \n",
        "    #Print the result after each iterations\n",
        "    print(f\"Array after {i} iterations is {arr}\")\n",
        "\n",
        "    #Increase the value of variable i by 1\n",
        "    i = i+1\n",
        "\n",
        "  #Return the array\n",
        "  return arr\n",
        "\n",
        "#Function call\n",
        "answer = reverse_array([5,10,15,20,25,30])\n",
        "print(f\"\\n\\nThe reversed array is {answer}\")"
      ],
      "execution_count": 25,
      "outputs": [
        {
          "output_type": "stream",
          "name": "stdout",
          "text": [
            "The original array is [5, 10, 15, 20, 25, 30]\n",
            "\n",
            "\n",
            "Array after 1 iterations is [30, 10, 15, 20, 25, 5]\n",
            "Array after 2 iterations is [30, 25, 15, 20, 10, 5]\n",
            "Array after 3 iterations is [30, 25, 20, 15, 10, 5]\n",
            "\n",
            "\n",
            "The reversed array is [30, 25, 20, 15, 10, 5]\n"
          ]
        }
      ]
    },
    {
      "cell_type": "markdown",
      "metadata": {
        "id": "GXG6qrtm02Xe"
      },
      "source": [
        "**If you want to reverse the elements of an array within a specified range then use the following code.**"
      ]
    },
    {
      "cell_type": "code",
      "metadata": {
        "colab": {
          "base_uri": "https://localhost:8080/"
        },
        "id": "kHuJ61sRjKmd",
        "outputId": "dbf27092-d01c-4541-f1e7-9d396ebc3312"
      },
      "source": [
        "#Python program to reverse an array with specific start and end values:\n",
        "\n",
        "def reverse_array(arr,start,end):\n",
        "\n",
        "  #Print the original array:\n",
        "  print(f\"The original array is {arr}\\n\\n\")\n",
        "\n",
        "  #Get the length of the array\n",
        "  n = len(arr)\n",
        "\n",
        "  #Initialize a variable for iterations\n",
        "  i = 1\n",
        "\n",
        "  #Run the following code until start<end\n",
        "  while(start<end):\n",
        "\n",
        "    #The following code swaps start and end values\n",
        "    temp = arr[start]\n",
        "    arr[start] = arr[end]\n",
        "    arr[end] = temp\n",
        "\n",
        "    #Increase the value of start by 1\n",
        "    start = start+1\n",
        "    #Decrease the value of end by 1\n",
        "    end = end-1\n",
        "  \n",
        "    #Print the result after each iterations\n",
        "    print(f\"Array after {i} iterations is {arr}\")\n",
        "\n",
        "    #Increase the value of variable i by 1\n",
        "    i = i+1\n",
        "\n",
        "  #Return the array\n",
        "  return arr\n",
        "\n",
        "#Function call:\n",
        "answer = reverse_array([5,10,15,20,25,30],0,3)\n",
        "print(f\"\\n\\nThe reversed array is {answer}\")"
      ],
      "execution_count": 27,
      "outputs": [
        {
          "output_type": "stream",
          "name": "stdout",
          "text": [
            "The original array is [5, 10, 15, 20, 25, 30]\n",
            "\n",
            "\n",
            "Array after 1 iterations is [20, 10, 15, 5, 25, 30]\n",
            "Array after 2 iterations is [20, 15, 10, 5, 25, 30]\n",
            "\n",
            "\n",
            "The reversed array is [20, 15, 10, 5, 25, 30]\n"
          ]
        }
      ]
    }
  ]
}