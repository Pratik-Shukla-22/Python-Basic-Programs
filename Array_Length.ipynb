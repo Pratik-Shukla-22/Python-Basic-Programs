{
  "nbformat": 4,
  "nbformat_minor": 0,
  "metadata": {
    "colab": {
      "name": "Array-Length.ipynb",
      "provenance": []
    },
    "kernelspec": {
      "name": "python3",
      "display_name": "Python 3"
    },
    "language_info": {
      "name": "python"
    }
  },
  "cells": [
    {
      "cell_type": "code",
      "metadata": {
        "colab": {
          "base_uri": "https://localhost:8080/"
        },
        "id": "D8kguOkiAr0d",
        "outputId": "31ae1add-aa2e-4e14-bf7d-3a73bce88629"
      },
      "source": [
        "#Python program to find the length of an array\n",
        "\n",
        "def find_len(arr):\n",
        "  #Initialize the counter with 0\n",
        "  count = 0\n",
        "\n",
        "  #Run a for loop to go through all the elements of the array\n",
        "  for element in arr:\n",
        "    #For each element in array increase the counter by 1\n",
        "    count = count + 1\n",
        "    \n",
        "  #Return the value of counter after exiting the for loop\n",
        "  return count\n",
        "\n",
        "#Function Call:\n",
        "arr = [1,2,3,4,5]\n",
        "answer = find_len(arr)\n",
        "print(f\"The length of array {arr} is {answer}.\")"
      ],
      "execution_count": 2,
      "outputs": [
        {
          "output_type": "stream",
          "name": "stdout",
          "text": [
            "The length of array [1, 2, 3, 4, 5] is 5.\n"
          ]
        }
      ]
    },
    {
      "cell_type": "code",
      "metadata": {
        "id": "IpeoTHKWAsZa"
      },
      "source": [
        ""
      ],
      "execution_count": null,
      "outputs": []
    }
  ]
}