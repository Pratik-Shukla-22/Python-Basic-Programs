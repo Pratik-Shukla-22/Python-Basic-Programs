{
  "nbformat": 4,
  "nbformat_minor": 0,
  "metadata": {
    "colab": {
      "name": "date_fashion.ipynb",
      "provenance": []
    },
    "kernelspec": {
      "name": "python3",
      "display_name": "Python 3"
    },
    "language_info": {
      "name": "python"
    }
  },
  "cells": [
    {
      "cell_type": "code",
      "metadata": {
        "colab": {
          "base_uri": "https://localhost:8080/"
        },
        "id": "UYljX72dksED",
        "outputId": "7aff68d2-55c1-49f4-ae96-3d2bea2087d5"
      },
      "source": [
        "#Python program for date_fashion\n",
        "\n",
        "def date_fashion(you,date):\n",
        "  #If you or date is greater than or equal to 8\n",
        "  #And\n",
        "  #If you and your date's score is greater than 2\n",
        "  if((you>=8 or date >=8) and you>2 and date>2):\n",
        "    return 2\n",
        "  \n",
        "  #If both scores are less than or equal to 2\n",
        "  elif(you<=2 or date<=2):\n",
        "    return 0\n",
        "  \n",
        "  #In any other situaltion\n",
        "  else:\n",
        "    return 1\n",
        "\n",
        "#Function call\n",
        "you = 2\n",
        "date = 10\n",
        "answer = date_fashion(5,10)\n",
        "if(answer==0):\n",
        "  print(f\"Under given conditions the answer is No.\")\n",
        "elif(answer==1):\n",
        "  print(f\"Under given conditions the answer is Maybe.\")\n",
        "else:\n",
        "  print(f\"Under given conditions the answer is Yes.\")"
      ],
      "execution_count": 5,
      "outputs": [
        {
          "output_type": "stream",
          "name": "stdout",
          "text": [
            "Under given conditions the answer is Yes.\n"
          ]
        }
      ]
    },
    {
      "cell_type": "code",
      "metadata": {
        "id": "XYUWAQAVBvxp"
      },
      "source": [
        ""
      ],
      "execution_count": 13,
      "outputs": []
    },
    {
      "cell_type": "code",
      "metadata": {
        "id": "qqQgORztCBXT"
      },
      "source": [
        ""
      ],
      "execution_count": null,
      "outputs": []
    }
  ]
}